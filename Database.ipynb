{
 "cells": [
  {
   "cell_type": "code",
   "execution_count": 1,
   "metadata": {},
   "outputs": [],
   "source": [
    "#import the libraries you'll need to work with pandas and a SQL database\n",
    "import pandas as pd\n",
    "from sqlalchemy import create_engine\n",
    "#my password is stored in a config.py file\n",
    "from config import postgres_pwd"
   ]
  },
  {
   "cell_type": "code",
   "execution_count": 2,
   "metadata": {},
   "outputs": [],
   "source": [
    "#create variables for the database and tables that we'll be using\n",
    "db_name = \"restaurants\"\n"
   ]
  },
  {
   "cell_type": "code",
   "execution_count": null,
   "metadata": {},
   "outputs": [],
   "source": [
    "# it may be a bit tedious but you can create a PostgreSQL database directly from Python\n",
    "engine = create_engine(f\"postgres://postgres:{postgres_pwd}@/postgres\")\n",
    "conn = engine.connect()\n",
    "conn.execute(\"commit\")\n",
    "conn.execute(f\"CREATE DATABASE {db_name}\"\"\")\n",
    "conn.close()"
   ]
  }
 ],
 "metadata": {
  "kernelspec": {
   "display_name": "Python 3",
   "language": "python",
   "name": "python3"
  },
  "language_info": {
   "codemirror_mode": {
    "name": "ipython",
    "version": 3
   },
   "file_extension": ".py",
   "mimetype": "text/x-python",
   "name": "python",
   "nbconvert_exporter": "python",
   "pygments_lexer": "ipython3",
   "version": "3.6.10"
  }
 },
 "nbformat": 4,
 "nbformat_minor": 4
}
