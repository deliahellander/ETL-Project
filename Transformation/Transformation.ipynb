{
 "cells": [
  {
   "cell_type": "code",
   "execution_count": 1,
   "metadata": {},
   "outputs": [],
   "source": [
    "import pandas as pd\n",
    "import requests\n",
    "from splinter import Browser\n",
    "from bs4 import BeautifulSoup\n",
    "import time\n",
    "from sqlalchemy import create_engine\n",
    "import json\n",
    "import pymongo\n",
    "from pymongo import MongoClient"
   ]
  },
  {
   "cell_type": "markdown",
   "metadata": {},
   "source": [
    "# Extract CSVs into DataFrames"
   ]
  },
  {
   "cell_type": "code",
   "execution_count": 2,
   "metadata": {},
   "outputs": [
    {
     "data": {
      "text/html": [
       "<div>\n",
       "<style scoped>\n",
       "    .dataframe tbody tr th:only-of-type {\n",
       "        vertical-align: middle;\n",
       "    }\n",
       "\n",
       "    .dataframe tbody tr th {\n",
       "        vertical-align: top;\n",
       "    }\n",
       "\n",
       "    .dataframe thead th {\n",
       "        text-align: right;\n",
       "    }\n",
       "</style>\n",
       "<table border=\"1\" class=\"dataframe\">\n",
       "  <thead>\n",
       "    <tr style=\"text-align: right;\">\n",
       "      <th></th>\n",
       "      <th>Unnamed: 0</th>\n",
       "      <th>restaurant_name</th>\n",
       "      <th>restaurant_url</th>\n",
       "      <th>restaurant_rating</th>\n",
       "      <th>price_cuisine</th>\n",
       "      <th>address1</th>\n",
       "      <th>address2</th>\n",
       "    </tr>\n",
       "  </thead>\n",
       "  <tbody>\n",
       "    <tr>\n",
       "      <th>0</th>\n",
       "      <td>0</td>\n",
       "      <td>Rosie’s Trattoria</td>\n",
       "      <td>https://www.yelp.com/biz/rosie-s-trattoria-ran...</td>\n",
       "      <td>4.5</td>\n",
       "      <td>$$$Italian, Bars, Venues &amp; Event Spaces</td>\n",
       "      <td>1181 Sussex Tpke</td>\n",
       "      <td>Randolph, NJ 07869</td>\n",
       "    </tr>\n",
       "    <tr>\n",
       "      <th>1</th>\n",
       "      <td>1</td>\n",
       "      <td>SubUrban Bar &amp; Kitchen</td>\n",
       "      <td>https://www.yelp.com/biz/suburban-bar-and-kitc...</td>\n",
       "      <td>4.0</td>\n",
       "      <td>$$American (New), Bars, Pizza</td>\n",
       "      <td>500 NJ-10</td>\n",
       "      <td>Randolph, NJ 07869</td>\n",
       "    </tr>\n",
       "    <tr>\n",
       "      <th>2</th>\n",
       "      <td>2</td>\n",
       "      <td>Missy’s Main Street Cafe</td>\n",
       "      <td>https://www.yelp.com/biz/missys-main-street-ca...</td>\n",
       "      <td>5.0</td>\n",
       "      <td>$Breakfast &amp; Brunch, Cafes</td>\n",
       "      <td>181 E Main St</td>\n",
       "      <td>Randolph, NJ 07869</td>\n",
       "    </tr>\n",
       "    <tr>\n",
       "      <th>3</th>\n",
       "      <td>3</td>\n",
       "      <td>The Corner Bistro</td>\n",
       "      <td>https://www.yelp.com/biz/the-corner-bistro-ran...</td>\n",
       "      <td>4.0</td>\n",
       "      <td>$$Diners, Italian</td>\n",
       "      <td>477 NJ-10</td>\n",
       "      <td>Randolph, NJ 07869</td>\n",
       "    </tr>\n",
       "    <tr>\n",
       "      <th>4</th>\n",
       "      <td>4</td>\n",
       "      <td>Beanbury</td>\n",
       "      <td>https://www.yelp.com/biz/beanbury-succasunna?o...</td>\n",
       "      <td>5.0</td>\n",
       "      <td>Coffee &amp; Tea, Breakfast &amp; Brunch</td>\n",
       "      <td>37 Route 10 E</td>\n",
       "      <td>Randolph, NJ 07869</td>\n",
       "    </tr>\n",
       "    <tr>\n",
       "      <th>...</th>\n",
       "      <td>...</td>\n",
       "      <td>...</td>\n",
       "      <td>...</td>\n",
       "      <td>...</td>\n",
       "      <td>...</td>\n",
       "      <td>...</td>\n",
       "      <td>...</td>\n",
       "    </tr>\n",
       "    <tr>\n",
       "      <th>235</th>\n",
       "      <td>235</td>\n",
       "      <td>Clean Juice</td>\n",
       "      <td>https://www.yelp.com/biz/clean-juice-morristow...</td>\n",
       "      <td>4.5</td>\n",
       "      <td>Juice Bars &amp; Smoothies, Acai Bowls, Wraps</td>\n",
       "      <td>68 South St</td>\n",
       "      <td>Randolph, NJ 07869</td>\n",
       "    </tr>\n",
       "    <tr>\n",
       "      <th>236</th>\n",
       "      <td>236</td>\n",
       "      <td>LongHorn Steakhouse</td>\n",
       "      <td>https://www.yelp.com/biz/longhorn-steakhouse-f...</td>\n",
       "      <td>3.5</td>\n",
       "      <td>$$Steakhouses, American (Traditional), Barbeque</td>\n",
       "      <td>50-J International Dr S</td>\n",
       "      <td>Randolph, NJ 07869</td>\n",
       "    </tr>\n",
       "    <tr>\n",
       "      <th>237</th>\n",
       "      <td>237</td>\n",
       "      <td>Hunan Chinese Room</td>\n",
       "      <td>https://www.yelp.com/biz/hunan-chinese-room-mo...</td>\n",
       "      <td>3.5</td>\n",
       "      <td>$$Chinese</td>\n",
       "      <td>255 Speedwell Ave</td>\n",
       "      <td>Randolph, NJ 07869</td>\n",
       "    </tr>\n",
       "    <tr>\n",
       "      <th>238</th>\n",
       "      <td>238</td>\n",
       "      <td>Brenda Lee Restaurant</td>\n",
       "      <td>https://www.yelp.com/biz/brenda-lee-restaurant...</td>\n",
       "      <td>3.5</td>\n",
       "      <td>Mexican</td>\n",
       "      <td>15 E Blackwell St</td>\n",
       "      <td>Randolph, NJ 07869</td>\n",
       "    </tr>\n",
       "    <tr>\n",
       "      <th>239</th>\n",
       "      <td>239</td>\n",
       "      <td>Dairy Queen</td>\n",
       "      <td>https://www.yelp.com/biz/dairy-queen-randolph?...</td>\n",
       "      <td>3.0</td>\n",
       "      <td>$Ice Cream &amp; Frozen Yogurt, Fast Food</td>\n",
       "      <td>746 State Rte 10</td>\n",
       "      <td>Randolph, NJ 07869</td>\n",
       "    </tr>\n",
       "  </tbody>\n",
       "</table>\n",
       "<p>240 rows × 7 columns</p>\n",
       "</div>"
      ],
      "text/plain": [
       "     Unnamed: 0           restaurant_name  \\\n",
       "0             0         Rosie’s Trattoria   \n",
       "1             1    SubUrban Bar & Kitchen   \n",
       "2             2  Missy’s Main Street Cafe   \n",
       "3             3         The Corner Bistro   \n",
       "4             4                  Beanbury   \n",
       "..          ...                       ...   \n",
       "235         235               Clean Juice   \n",
       "236         236       LongHorn Steakhouse   \n",
       "237         237        Hunan Chinese Room   \n",
       "238         238     Brenda Lee Restaurant   \n",
       "239         239               Dairy Queen   \n",
       "\n",
       "                                        restaurant_url  restaurant_rating  \\\n",
       "0    https://www.yelp.com/biz/rosie-s-trattoria-ran...                4.5   \n",
       "1    https://www.yelp.com/biz/suburban-bar-and-kitc...                4.0   \n",
       "2    https://www.yelp.com/biz/missys-main-street-ca...                5.0   \n",
       "3    https://www.yelp.com/biz/the-corner-bistro-ran...                4.0   \n",
       "4    https://www.yelp.com/biz/beanbury-succasunna?o...                5.0   \n",
       "..                                                 ...                ...   \n",
       "235  https://www.yelp.com/biz/clean-juice-morristow...                4.5   \n",
       "236  https://www.yelp.com/biz/longhorn-steakhouse-f...                3.5   \n",
       "237  https://www.yelp.com/biz/hunan-chinese-room-mo...                3.5   \n",
       "238  https://www.yelp.com/biz/brenda-lee-restaurant...                3.5   \n",
       "239  https://www.yelp.com/biz/dairy-queen-randolph?...                3.0   \n",
       "\n",
       "                                       price_cuisine                 address1  \\\n",
       "0            $$$Italian, Bars, Venues & Event Spaces         1181 Sussex Tpke   \n",
       "1                      $$American (New), Bars, Pizza                500 NJ-10   \n",
       "2                         $Breakfast & Brunch, Cafes            181 E Main St   \n",
       "3                                  $$Diners, Italian                477 NJ-10   \n",
       "4                   Coffee & Tea, Breakfast & Brunch            37 Route 10 E   \n",
       "..                                               ...                      ...   \n",
       "235        Juice Bars & Smoothies, Acai Bowls, Wraps              68 South St   \n",
       "236  $$Steakhouses, American (Traditional), Barbeque  50-J International Dr S   \n",
       "237                                        $$Chinese        255 Speedwell Ave   \n",
       "238                                          Mexican        15 E Blackwell St   \n",
       "239            $Ice Cream & Frozen Yogurt, Fast Food         746 State Rte 10   \n",
       "\n",
       "               address2  \n",
       "0    Randolph, NJ 07869  \n",
       "1    Randolph, NJ 07869  \n",
       "2    Randolph, NJ 07869  \n",
       "3    Randolph, NJ 07869  \n",
       "4    Randolph, NJ 07869  \n",
       "..                  ...  \n",
       "235  Randolph, NJ 07869  \n",
       "236  Randolph, NJ 07869  \n",
       "237  Randolph, NJ 07869  \n",
       "238  Randolph, NJ 07869  \n",
       "239  Randolph, NJ 07869  \n",
       "\n",
       "[240 rows x 7 columns]"
      ]
     },
     "execution_count": 2,
     "metadata": {},
     "output_type": "execute_result"
    }
   ],
   "source": [
    "yelp_file = \"../Resources/yelp_data.csv\"\n",
    "yelp_df = pd.read_csv(yelp_file)\n",
    "yelp_df"
   ]
  },
  {
   "cell_type": "code",
   "execution_count": 3,
   "metadata": {},
   "outputs": [
    {
     "data": {
      "text/plain": [
       "Index(['Unnamed: 0', 'restaurant_name', 'restaurant_url', 'restaurant_rating',\n",
       "       'price_cuisine', 'address1', 'address2'],\n",
       "      dtype='object')"
      ]
     },
     "execution_count": 3,
     "metadata": {},
     "output_type": "execute_result"
    }
   ],
   "source": [
    "# All columns\n",
    "yelp_df.columns"
   ]
  },
  {
   "cell_type": "code",
   "execution_count": 15,
   "metadata": {},
   "outputs": [
    {
     "data": {
      "text/plain": [
       "Sandwiches Unlimited Lunch Box            2\n",
       "L & L Deli & Catering                     1\n",
       "The 53 Grill                              1\n",
       "JA Spice Island Jerk and American Food    1\n",
       "Carver’s                                  1\n",
       "                                         ..\n",
       "Malay                                     1\n",
       "Tierras y Sabores Restaurant              1\n",
       "Paisano’s Pizzeria                        1\n",
       "Bryans Luncheonette                       1\n",
       "Blossom Asian Bistro                      1\n",
       "Name: restaurant_name, Length: 239, dtype: int64"
      ]
     },
     "execution_count": 15,
     "metadata": {},
     "output_type": "execute_result"
    }
   ],
   "source": [
    "# restaurant_name check\n",
    "yelp_df[\"restaurant_name\"].value_counts()\n",
    "#yelp_df[\"restaurant_name\"].count()"
   ]
  },
  {
   "cell_type": "code",
   "execution_count": 16,
   "metadata": {},
   "outputs": [
    {
     "data": {
      "text/plain": [
       "330 S Salem St          3\n",
       "1250 Sussex Turnpike    2\n",
       "39 W Clinton St         2\n",
       "459 Main St             2\n",
       "6B S Warren St          1\n",
       "                       ..\n",
       "25 E Main St            1\n",
       "242 E Union Tpke        1\n",
       "42 Main St              1\n",
       "517 E Rte 10            1\n",
       "12 Elm St               1\n",
       "Name: address1, Length: 235, dtype: int64"
      ]
     },
     "execution_count": 16,
     "metadata": {},
     "output_type": "execute_result"
    }
   ],
   "source": [
    "# address1 check\n",
    "yelp_df[\"address1\"].value_counts()"
   ]
  },
  {
   "cell_type": "code",
   "execution_count": 17,
   "metadata": {},
   "outputs": [
    {
     "name": "stdout",
     "output_type": "stream",
     "text": [
      "4.04375\n"
     ]
    }
   ],
   "source": [
    "# average rating\n",
    "average_rating = yelp_df[\"restaurant_rating\"].sum()/yelp_df[\"restaurant_name\"].count()\n",
    "print(average_rating)\n"
   ]
  },
  {
   "cell_type": "code",
   "execution_count": null,
   "metadata": {},
   "outputs": [],
   "source": []
  },
  {
   "cell_type": "markdown",
   "metadata": {},
   "source": [
    "# Create new data with select columns"
   ]
  },
  {
   "cell_type": "code",
   "execution_count": 40,
   "metadata": {},
   "outputs": [
    {
     "data": {
      "text/html": [
       "<div>\n",
       "<style scoped>\n",
       "    .dataframe tbody tr th:only-of-type {\n",
       "        vertical-align: middle;\n",
       "    }\n",
       "\n",
       "    .dataframe tbody tr th {\n",
       "        vertical-align: top;\n",
       "    }\n",
       "\n",
       "    .dataframe thead th {\n",
       "        text-align: right;\n",
       "    }\n",
       "</style>\n",
       "<table border=\"1\" class=\"dataframe\">\n",
       "  <thead>\n",
       "    <tr style=\"text-align: right;\">\n",
       "      <th></th>\n",
       "      <th>restaurant_name</th>\n",
       "      <th>address1</th>\n",
       "    </tr>\n",
       "  </thead>\n",
       "  <tbody>\n",
       "    <tr>\n",
       "      <th>0</th>\n",
       "      <td>Rosie’s Trattoria</td>\n",
       "      <td>1181 Sussex Tpke</td>\n",
       "    </tr>\n",
       "    <tr>\n",
       "      <th>1</th>\n",
       "      <td>SubUrban Bar &amp; Kitchen</td>\n",
       "      <td>500 NJ-10</td>\n",
       "    </tr>\n",
       "    <tr>\n",
       "      <th>2</th>\n",
       "      <td>Missy’s Main Street Cafe</td>\n",
       "      <td>181 E Main St</td>\n",
       "    </tr>\n",
       "    <tr>\n",
       "      <th>3</th>\n",
       "      <td>The Corner Bistro</td>\n",
       "      <td>477 NJ-10</td>\n",
       "    </tr>\n",
       "    <tr>\n",
       "      <th>4</th>\n",
       "      <td>Beanbury</td>\n",
       "      <td>37 Route 10 E</td>\n",
       "    </tr>\n",
       "    <tr>\n",
       "      <th>...</th>\n",
       "      <td>...</td>\n",
       "      <td>...</td>\n",
       "    </tr>\n",
       "    <tr>\n",
       "      <th>235</th>\n",
       "      <td>Clean Juice</td>\n",
       "      <td>68 South St</td>\n",
       "    </tr>\n",
       "    <tr>\n",
       "      <th>236</th>\n",
       "      <td>LongHorn Steakhouse</td>\n",
       "      <td>50-J International Dr S</td>\n",
       "    </tr>\n",
       "    <tr>\n",
       "      <th>237</th>\n",
       "      <td>Hunan Chinese Room</td>\n",
       "      <td>255 Speedwell Ave</td>\n",
       "    </tr>\n",
       "    <tr>\n",
       "      <th>238</th>\n",
       "      <td>Brenda Lee Restaurant</td>\n",
       "      <td>15 E Blackwell St</td>\n",
       "    </tr>\n",
       "    <tr>\n",
       "      <th>239</th>\n",
       "      <td>Dairy Queen</td>\n",
       "      <td>746 State Rte 10</td>\n",
       "    </tr>\n",
       "  </tbody>\n",
       "</table>\n",
       "<p>240 rows × 2 columns</p>\n",
       "</div>"
      ],
      "text/plain": [
       "              restaurant_name                 address1\n",
       "0           Rosie’s Trattoria         1181 Sussex Tpke\n",
       "1      SubUrban Bar & Kitchen                500 NJ-10\n",
       "2    Missy’s Main Street Cafe            181 E Main St\n",
       "3           The Corner Bistro                477 NJ-10\n",
       "4                    Beanbury            37 Route 10 E\n",
       "..                        ...                      ...\n",
       "235               Clean Juice              68 South St\n",
       "236       LongHorn Steakhouse  50-J International Dr S\n",
       "237        Hunan Chinese Room        255 Speedwell Ave\n",
       "238     Brenda Lee Restaurant        15 E Blackwell St\n",
       "239               Dairy Queen         746 State Rte 10\n",
       "\n",
       "[240 rows x 2 columns]"
      ]
     },
     "execution_count": 40,
     "metadata": {},
     "output_type": "execute_result"
    }
   ],
   "source": [
    "new_yelp_df = yelp_df[['restaurant_name', 'address1']].copy()\n",
    "new_yelp_df"
   ]
  },
  {
   "cell_type": "markdown",
   "metadata": {},
   "source": [
    "# Clean DataFrame"
   ]
  },
  {
   "cell_type": "code",
   "execution_count": 33,
   "metadata": {},
   "outputs": [
    {
     "data": {
      "text/html": [
       "<div>\n",
       "<style scoped>\n",
       "    .dataframe tbody tr th:only-of-type {\n",
       "        vertical-align: middle;\n",
       "    }\n",
       "\n",
       "    .dataframe tbody tr th {\n",
       "        vertical-align: top;\n",
       "    }\n",
       "\n",
       "    .dataframe thead th {\n",
       "        text-align: right;\n",
       "    }\n",
       "</style>\n",
       "<table border=\"1\" class=\"dataframe\">\n",
       "  <thead>\n",
       "    <tr style=\"text-align: right;\">\n",
       "      <th></th>\n",
       "      <th>restaurant_name</th>\n",
       "      <th>address1</th>\n",
       "    </tr>\n",
       "  </thead>\n",
       "  <tbody>\n",
       "    <tr>\n",
       "      <th>0</th>\n",
       "      <td>Rosie’s Trattoria</td>\n",
       "      <td>1181 Sussex Tpke</td>\n",
       "    </tr>\n",
       "    <tr>\n",
       "      <th>1</th>\n",
       "      <td>SubUrban Bar &amp; Kitchen</td>\n",
       "      <td>500 NJ-10</td>\n",
       "    </tr>\n",
       "    <tr>\n",
       "      <th>2</th>\n",
       "      <td>Missy’s Main Street Cafe</td>\n",
       "      <td>181 E Main St</td>\n",
       "    </tr>\n",
       "    <tr>\n",
       "      <th>3</th>\n",
       "      <td>The Corner Bistro</td>\n",
       "      <td>477 NJ-10</td>\n",
       "    </tr>\n",
       "    <tr>\n",
       "      <th>4</th>\n",
       "      <td>Beanbury</td>\n",
       "      <td>37 Route 10 E</td>\n",
       "    </tr>\n",
       "    <tr>\n",
       "      <th>...</th>\n",
       "      <td>...</td>\n",
       "      <td>...</td>\n",
       "    </tr>\n",
       "    <tr>\n",
       "      <th>235</th>\n",
       "      <td>Clean Juice</td>\n",
       "      <td>68 South St</td>\n",
       "    </tr>\n",
       "    <tr>\n",
       "      <th>236</th>\n",
       "      <td>LongHorn Steakhouse</td>\n",
       "      <td>50-J International Dr S</td>\n",
       "    </tr>\n",
       "    <tr>\n",
       "      <th>237</th>\n",
       "      <td>Hunan Chinese Room</td>\n",
       "      <td>255 Speedwell Ave</td>\n",
       "    </tr>\n",
       "    <tr>\n",
       "      <th>238</th>\n",
       "      <td>Brenda Lee Restaurant</td>\n",
       "      <td>15 E Blackwell St</td>\n",
       "    </tr>\n",
       "    <tr>\n",
       "      <th>239</th>\n",
       "      <td>Dairy Queen</td>\n",
       "      <td>746 State Rte 10</td>\n",
       "    </tr>\n",
       "  </tbody>\n",
       "</table>\n",
       "<p>240 rows × 2 columns</p>\n",
       "</div>"
      ],
      "text/plain": [
       "              restaurant_name                 address1\n",
       "0           Rosie’s Trattoria         1181 Sussex Tpke\n",
       "1      SubUrban Bar & Kitchen                500 NJ-10\n",
       "2    Missy’s Main Street Cafe            181 E Main St\n",
       "3           The Corner Bistro                477 NJ-10\n",
       "4                    Beanbury            37 Route 10 E\n",
       "..                        ...                      ...\n",
       "235               Clean Juice              68 South St\n",
       "236       LongHorn Steakhouse  50-J International Dr S\n",
       "237        Hunan Chinese Room        255 Speedwell Ave\n",
       "238     Brenda Lee Restaurant        15 E Blackwell St\n",
       "239               Dairy Queen         746 State Rte 10\n",
       "\n",
       "[240 rows x 2 columns]"
      ]
     },
     "execution_count": 33,
     "metadata": {},
     "output_type": "execute_result"
    }
   ],
   "source": [
    "# There are different length for restaurant_name and address1 values.So,we need to fill the empty values.\n",
    "new_yelp_df['restaurant_name'] = new_yelp_df['restaurant_name'].fillna(0)\n",
    "new_yelp_df['address1'] = new_yelp_df['address1'].fillna(0)\n",
    "new_yelp_df"
   ]
  },
  {
   "cell_type": "code",
   "execution_count": null,
   "metadata": {},
   "outputs": [],
   "source": []
  },
  {
   "cell_type": "markdown",
   "metadata": {},
   "source": [
    "# Store JSON data into a DataFrame"
   ]
  },
  {
   "cell_type": "code",
   "execution_count": 18,
   "metadata": {},
   "outputs": [
    {
     "data": {
      "text/html": [
       "<div>\n",
       "<style scoped>\n",
       "    .dataframe tbody tr th:only-of-type {\n",
       "        vertical-align: middle;\n",
       "    }\n",
       "\n",
       "    .dataframe tbody tr th {\n",
       "        vertical-align: top;\n",
       "    }\n",
       "\n",
       "    .dataframe thead th {\n",
       "        text-align: right;\n",
       "    }\n",
       "</style>\n",
       "<table border=\"1\" class=\"dataframe\">\n",
       "  <thead>\n",
       "    <tr style=\"text-align: right;\">\n",
       "      <th></th>\n",
       "      <th>business_id</th>\n",
       "      <th>name</th>\n",
       "      <th>address</th>\n",
       "      <th>city</th>\n",
       "      <th>state</th>\n",
       "      <th>postal_code</th>\n",
       "      <th>latitude</th>\n",
       "      <th>longitude</th>\n",
       "      <th>stars</th>\n",
       "      <th>review_count</th>\n",
       "      <th>is_open</th>\n",
       "      <th>attributes</th>\n",
       "      <th>categories</th>\n",
       "      <th>hours</th>\n",
       "    </tr>\n",
       "  </thead>\n",
       "  <tbody>\n",
       "    <tr>\n",
       "      <th>0</th>\n",
       "      <td>f9NumwFMBDn751xgFiRbNA</td>\n",
       "      <td>The Range At Lake Norman</td>\n",
       "      <td>10913 Bailey Rd</td>\n",
       "      <td>Cornelius</td>\n",
       "      <td>NC</td>\n",
       "      <td>28031</td>\n",
       "      <td>35.462724</td>\n",
       "      <td>-80.852612</td>\n",
       "      <td>3.5</td>\n",
       "      <td>36</td>\n",
       "      <td>1</td>\n",
       "      <td>{'BusinessAcceptsCreditCards': 'True', 'BikePa...</td>\n",
       "      <td>Active Life, Gun/Rifle Ranges, Guns &amp; Ammo, Sh...</td>\n",
       "      <td>{'Monday': '10:0-18:0', 'Tuesday': '11:0-20:0'...</td>\n",
       "    </tr>\n",
       "    <tr>\n",
       "      <th>1</th>\n",
       "      <td>Yzvjg0SayhoZgCljUJRF9Q</td>\n",
       "      <td>Carlos Santo, NMD</td>\n",
       "      <td>8880 E Via Linda, Ste 107</td>\n",
       "      <td>Scottsdale</td>\n",
       "      <td>AZ</td>\n",
       "      <td>85258</td>\n",
       "      <td>33.569404</td>\n",
       "      <td>-111.890264</td>\n",
       "      <td>5.0</td>\n",
       "      <td>4</td>\n",
       "      <td>1</td>\n",
       "      <td>{'GoodForKids': 'True', 'ByAppointmentOnly': '...</td>\n",
       "      <td>Health &amp; Medical, Fitness &amp; Instruction, Yoga,...</td>\n",
       "      <td>None</td>\n",
       "    </tr>\n",
       "    <tr>\n",
       "      <th>2</th>\n",
       "      <td>XNoUzKckATkOD1hP6vghZg</td>\n",
       "      <td>Felinus</td>\n",
       "      <td>3554 Rue Notre-Dame O</td>\n",
       "      <td>Montreal</td>\n",
       "      <td>QC</td>\n",
       "      <td>H4C 1P4</td>\n",
       "      <td>45.479984</td>\n",
       "      <td>-73.580070</td>\n",
       "      <td>5.0</td>\n",
       "      <td>5</td>\n",
       "      <td>1</td>\n",
       "      <td>None</td>\n",
       "      <td>Pets, Pet Services, Pet Groomers</td>\n",
       "      <td>None</td>\n",
       "    </tr>\n",
       "    <tr>\n",
       "      <th>3</th>\n",
       "      <td>6OAZjbxqM5ol29BuHsil3w</td>\n",
       "      <td>Nevada House of Hose</td>\n",
       "      <td>1015 Sharp Cir</td>\n",
       "      <td>North Las Vegas</td>\n",
       "      <td>NV</td>\n",
       "      <td>89030</td>\n",
       "      <td>36.219728</td>\n",
       "      <td>-115.127725</td>\n",
       "      <td>2.5</td>\n",
       "      <td>3</td>\n",
       "      <td>0</td>\n",
       "      <td>{'BusinessAcceptsCreditCards': 'True', 'ByAppo...</td>\n",
       "      <td>Hardware Stores, Home Services, Building Suppl...</td>\n",
       "      <td>{'Monday': '7:0-16:0', 'Tuesday': '7:0-16:0', ...</td>\n",
       "    </tr>\n",
       "    <tr>\n",
       "      <th>4</th>\n",
       "      <td>51M2Kk903DFYI6gnB5I6SQ</td>\n",
       "      <td>USE MY GUY SERVICES LLC</td>\n",
       "      <td>4827 E Downing Cir</td>\n",
       "      <td>Mesa</td>\n",
       "      <td>AZ</td>\n",
       "      <td>85205</td>\n",
       "      <td>33.428065</td>\n",
       "      <td>-111.726648</td>\n",
       "      <td>4.5</td>\n",
       "      <td>26</td>\n",
       "      <td>1</td>\n",
       "      <td>{'BusinessAcceptsCreditCards': 'True', 'ByAppo...</td>\n",
       "      <td>Home Services, Plumbing, Electricians, Handyma...</td>\n",
       "      <td>{'Monday': '0:0-0:0', 'Tuesday': '9:0-16:0', '...</td>\n",
       "    </tr>\n",
       "  </tbody>\n",
       "</table>\n",
       "</div>"
      ],
      "text/plain": [
       "              business_id                      name  \\\n",
       "0  f9NumwFMBDn751xgFiRbNA  The Range At Lake Norman   \n",
       "1  Yzvjg0SayhoZgCljUJRF9Q         Carlos Santo, NMD   \n",
       "2  XNoUzKckATkOD1hP6vghZg                   Felinus   \n",
       "3  6OAZjbxqM5ol29BuHsil3w      Nevada House of Hose   \n",
       "4  51M2Kk903DFYI6gnB5I6SQ   USE MY GUY SERVICES LLC   \n",
       "\n",
       "                     address             city state postal_code   latitude  \\\n",
       "0            10913 Bailey Rd        Cornelius    NC       28031  35.462724   \n",
       "1  8880 E Via Linda, Ste 107       Scottsdale    AZ       85258  33.569404   \n",
       "2      3554 Rue Notre-Dame O         Montreal    QC     H4C 1P4  45.479984   \n",
       "3             1015 Sharp Cir  North Las Vegas    NV       89030  36.219728   \n",
       "4         4827 E Downing Cir             Mesa    AZ       85205  33.428065   \n",
       "\n",
       "    longitude  stars  review_count  is_open  \\\n",
       "0  -80.852612    3.5            36        1   \n",
       "1 -111.890264    5.0             4        1   \n",
       "2  -73.580070    5.0             5        1   \n",
       "3 -115.127725    2.5             3        0   \n",
       "4 -111.726648    4.5            26        1   \n",
       "\n",
       "                                          attributes  \\\n",
       "0  {'BusinessAcceptsCreditCards': 'True', 'BikePa...   \n",
       "1  {'GoodForKids': 'True', 'ByAppointmentOnly': '...   \n",
       "2                                               None   \n",
       "3  {'BusinessAcceptsCreditCards': 'True', 'ByAppo...   \n",
       "4  {'BusinessAcceptsCreditCards': 'True', 'ByAppo...   \n",
       "\n",
       "                                          categories  \\\n",
       "0  Active Life, Gun/Rifle Ranges, Guns & Ammo, Sh...   \n",
       "1  Health & Medical, Fitness & Instruction, Yoga,...   \n",
       "2                   Pets, Pet Services, Pet Groomers   \n",
       "3  Hardware Stores, Home Services, Building Suppl...   \n",
       "4  Home Services, Plumbing, Electricians, Handyma...   \n",
       "\n",
       "                                               hours  \n",
       "0  {'Monday': '10:0-18:0', 'Tuesday': '11:0-20:0'...  \n",
       "1                                               None  \n",
       "2                                               None  \n",
       "3  {'Monday': '7:0-16:0', 'Tuesday': '7:0-16:0', ...  \n",
       "4  {'Monday': '0:0-0:0', 'Tuesday': '9:0-16:0', '...  "
      ]
     },
     "execution_count": 18,
     "metadata": {},
     "output_type": "execute_result"
    }
   ],
   "source": [
    "json_file = \"../Resources/yelp_academic_dataset_business.json\"\n",
    "yelp_business_df = pd.read_json(json_file, lines=True)\n",
    "yelp_business_df.head()"
   ]
  },
  {
   "cell_type": "code",
   "execution_count": 20,
   "metadata": {},
   "outputs": [
    {
     "data": {
      "text/plain": [
       "Index(['business_id', 'name', 'address', 'city', 'state', 'postal_code',\n",
       "       'latitude', 'longitude', 'stars', 'review_count', 'is_open',\n",
       "       'attributes', 'categories', 'hours'],\n",
       "      dtype='object')"
      ]
     },
     "execution_count": 20,
     "metadata": {},
     "output_type": "execute_result"
    }
   ],
   "source": [
    "# All columns\n",
    "yelp_business_df.columns"
   ]
  },
  {
   "cell_type": "code",
   "execution_count": 38,
   "metadata": {},
   "outputs": [
    {
     "data": {
      "text/plain": [
       "Starbucks                  1184\n",
       "McDonald's                  854\n",
       "Subway Restaurants          613\n",
       "Tim Hortons                 388\n",
       "Burger King                 337\n",
       "                           ... \n",
       "Toothology                    1\n",
       "American Tattoo Studios       1\n",
       "Porsche Beachwood             1\n",
       "PreFocus Solutions            1\n",
       "                              1\n",
       "Name: name, Length: 157229, dtype: int64"
      ]
     },
     "execution_count": 38,
     "metadata": {},
     "output_type": "execute_result"
    }
   ],
   "source": [
    "# restaurant name check\n",
    "yelp_business_df[\"name\"].value_counts()"
   ]
  },
  {
   "cell_type": "code",
   "execution_count": 39,
   "metadata": {},
   "outputs": [
    {
     "data": {
      "text/plain": [
       "                             8679\n",
       "5757 Wayne Newton Blvd        107\n",
       "7014 E Camelback Rd            89\n",
       "100 City Centre Drive          84\n",
       "3200 Las Vegas Blvd S          80\n",
       "                             ... \n",
       "353 N Shore Dr                  1\n",
       "712 Steels Corners Rd           1\n",
       "1561 Brittain Rd                1\n",
       "3591 Sheppard Avenue E          1\n",
       "1209 Mount Royal Avenue E       1\n",
       "Name: address, Length: 164423, dtype: int64"
      ]
     },
     "execution_count": 39,
     "metadata": {},
     "output_type": "execute_result"
    }
   ],
   "source": [
    "# restaurant address check\n",
    "yelp_business_df[\"address\"].value_counts()"
   ]
  },
  {
   "cell_type": "markdown",
   "metadata": {},
   "source": [
    "# Create new data with select columns"
   ]
  },
  {
   "cell_type": "code",
   "execution_count": 41,
   "metadata": {},
   "outputs": [
    {
     "data": {
      "text/html": [
       "<div>\n",
       "<style scoped>\n",
       "    .dataframe tbody tr th:only-of-type {\n",
       "        vertical-align: middle;\n",
       "    }\n",
       "\n",
       "    .dataframe tbody tr th {\n",
       "        vertical-align: top;\n",
       "    }\n",
       "\n",
       "    .dataframe thead th {\n",
       "        text-align: right;\n",
       "    }\n",
       "</style>\n",
       "<table border=\"1\" class=\"dataframe\">\n",
       "  <thead>\n",
       "    <tr style=\"text-align: right;\">\n",
       "      <th></th>\n",
       "      <th>name</th>\n",
       "      <th>address</th>\n",
       "    </tr>\n",
       "  </thead>\n",
       "  <tbody>\n",
       "    <tr>\n",
       "      <th>0</th>\n",
       "      <td>The Range At Lake Norman</td>\n",
       "      <td>10913 Bailey Rd</td>\n",
       "    </tr>\n",
       "    <tr>\n",
       "      <th>1</th>\n",
       "      <td>Carlos Santo, NMD</td>\n",
       "      <td>8880 E Via Linda, Ste 107</td>\n",
       "    </tr>\n",
       "    <tr>\n",
       "      <th>2</th>\n",
       "      <td>Felinus</td>\n",
       "      <td>3554 Rue Notre-Dame O</td>\n",
       "    </tr>\n",
       "    <tr>\n",
       "      <th>3</th>\n",
       "      <td>Nevada House of Hose</td>\n",
       "      <td>1015 Sharp Cir</td>\n",
       "    </tr>\n",
       "    <tr>\n",
       "      <th>4</th>\n",
       "      <td>USE MY GUY SERVICES LLC</td>\n",
       "      <td>4827 E Downing Cir</td>\n",
       "    </tr>\n",
       "    <tr>\n",
       "      <th>...</th>\n",
       "      <td>...</td>\n",
       "      <td>...</td>\n",
       "    </tr>\n",
       "    <tr>\n",
       "      <th>209388</th>\n",
       "      <td>Nishi Sushi</td>\n",
       "      <td>9750 Weston Road</td>\n",
       "    </tr>\n",
       "    <tr>\n",
       "      <th>209389</th>\n",
       "      <td>Walmart</td>\n",
       "      <td>3240 Wilkinson Blvd</td>\n",
       "    </tr>\n",
       "    <tr>\n",
       "      <th>209390</th>\n",
       "      <td>Five Guys</td>\n",
       "      <td>7014-590 E Camelback Rd</td>\n",
       "    </tr>\n",
       "    <tr>\n",
       "      <th>209391</th>\n",
       "      <td>Indian Trail Dog Training</td>\n",
       "      <td></td>\n",
       "    </tr>\n",
       "    <tr>\n",
       "      <th>209392</th>\n",
       "      <td>Kudlow Ye</td>\n",
       "      <td>21 St Clair Avenue E, Suite 401</td>\n",
       "    </tr>\n",
       "  </tbody>\n",
       "</table>\n",
       "<p>209393 rows × 2 columns</p>\n",
       "</div>"
      ],
      "text/plain": [
       "                             name                          address\n",
       "0        The Range At Lake Norman                  10913 Bailey Rd\n",
       "1               Carlos Santo, NMD        8880 E Via Linda, Ste 107\n",
       "2                         Felinus            3554 Rue Notre-Dame O\n",
       "3            Nevada House of Hose                   1015 Sharp Cir\n",
       "4         USE MY GUY SERVICES LLC               4827 E Downing Cir\n",
       "...                           ...                              ...\n",
       "209388                Nishi Sushi                 9750 Weston Road\n",
       "209389                    Walmart              3240 Wilkinson Blvd\n",
       "209390                  Five Guys          7014-590 E Camelback Rd\n",
       "209391  Indian Trail Dog Training                                 \n",
       "209392                  Kudlow Ye  21 St Clair Avenue E, Suite 401\n",
       "\n",
       "[209393 rows x 2 columns]"
      ]
     },
     "execution_count": 41,
     "metadata": {},
     "output_type": "execute_result"
    }
   ],
   "source": [
    "new_yelp_business_df = yelp_business_df[['name', 'address']].copy()\n",
    "new_yelp_business_df"
   ]
  },
  {
   "cell_type": "code",
   "execution_count": null,
   "metadata": {},
   "outputs": [],
   "source": []
  },
  {
   "cell_type": "markdown",
   "metadata": {},
   "source": [
    "# Clean DataFrame"
   ]
  },
  {
   "cell_type": "code",
   "execution_count": 42,
   "metadata": {},
   "outputs": [
    {
     "data": {
      "text/html": [
       "<div>\n",
       "<style scoped>\n",
       "    .dataframe tbody tr th:only-of-type {\n",
       "        vertical-align: middle;\n",
       "    }\n",
       "\n",
       "    .dataframe tbody tr th {\n",
       "        vertical-align: top;\n",
       "    }\n",
       "\n",
       "    .dataframe thead th {\n",
       "        text-align: right;\n",
       "    }\n",
       "</style>\n",
       "<table border=\"1\" class=\"dataframe\">\n",
       "  <thead>\n",
       "    <tr style=\"text-align: right;\">\n",
       "      <th></th>\n",
       "      <th>name</th>\n",
       "      <th>address</th>\n",
       "    </tr>\n",
       "  </thead>\n",
       "  <tbody>\n",
       "    <tr>\n",
       "      <th>0</th>\n",
       "      <td>The Range At Lake Norman</td>\n",
       "      <td>10913 Bailey Rd</td>\n",
       "    </tr>\n",
       "    <tr>\n",
       "      <th>1</th>\n",
       "      <td>Carlos Santo, NMD</td>\n",
       "      <td>8880 E Via Linda, Ste 107</td>\n",
       "    </tr>\n",
       "    <tr>\n",
       "      <th>2</th>\n",
       "      <td>Felinus</td>\n",
       "      <td>3554 Rue Notre-Dame O</td>\n",
       "    </tr>\n",
       "    <tr>\n",
       "      <th>3</th>\n",
       "      <td>Nevada House of Hose</td>\n",
       "      <td>1015 Sharp Cir</td>\n",
       "    </tr>\n",
       "    <tr>\n",
       "      <th>4</th>\n",
       "      <td>USE MY GUY SERVICES LLC</td>\n",
       "      <td>4827 E Downing Cir</td>\n",
       "    </tr>\n",
       "    <tr>\n",
       "      <th>...</th>\n",
       "      <td>...</td>\n",
       "      <td>...</td>\n",
       "    </tr>\n",
       "    <tr>\n",
       "      <th>209388</th>\n",
       "      <td>Nishi Sushi</td>\n",
       "      <td>9750 Weston Road</td>\n",
       "    </tr>\n",
       "    <tr>\n",
       "      <th>209389</th>\n",
       "      <td>Walmart</td>\n",
       "      <td>3240 Wilkinson Blvd</td>\n",
       "    </tr>\n",
       "    <tr>\n",
       "      <th>209390</th>\n",
       "      <td>Five Guys</td>\n",
       "      <td>7014-590 E Camelback Rd</td>\n",
       "    </tr>\n",
       "    <tr>\n",
       "      <th>209391</th>\n",
       "      <td>Indian Trail Dog Training</td>\n",
       "      <td></td>\n",
       "    </tr>\n",
       "    <tr>\n",
       "      <th>209392</th>\n",
       "      <td>Kudlow Ye</td>\n",
       "      <td>21 St Clair Avenue E, Suite 401</td>\n",
       "    </tr>\n",
       "  </tbody>\n",
       "</table>\n",
       "<p>209393 rows × 2 columns</p>\n",
       "</div>"
      ],
      "text/plain": [
       "                             name                          address\n",
       "0        The Range At Lake Norman                  10913 Bailey Rd\n",
       "1               Carlos Santo, NMD        8880 E Via Linda, Ste 107\n",
       "2                         Felinus            3554 Rue Notre-Dame O\n",
       "3            Nevada House of Hose                   1015 Sharp Cir\n",
       "4         USE MY GUY SERVICES LLC               4827 E Downing Cir\n",
       "...                           ...                              ...\n",
       "209388                Nishi Sushi                 9750 Weston Road\n",
       "209389                    Walmart              3240 Wilkinson Blvd\n",
       "209390                  Five Guys          7014-590 E Camelback Rd\n",
       "209391  Indian Trail Dog Training                                 \n",
       "209392                  Kudlow Ye  21 St Clair Avenue E, Suite 401\n",
       "\n",
       "[209393 rows x 2 columns]"
      ]
     },
     "execution_count": 42,
     "metadata": {},
     "output_type": "execute_result"
    }
   ],
   "source": [
    "new_yelp_business_df['name'] = new_yelp_business_df['name'].fillna(0)\n",
    "new_yelp_business_df['address'] = new_yelp_business_df['address'].fillna(0)\n",
    "new_yelp_business_df"
   ]
  },
  {
   "cell_type": "code",
   "execution_count": null,
   "metadata": {},
   "outputs": [],
   "source": []
  },
  {
   "cell_type": "code",
   "execution_count": 37,
   "metadata": {},
   "outputs": [
    {
     "data": {
      "text/html": [
       "<div>\n",
       "<style scoped>\n",
       "    .dataframe tbody tr th:only-of-type {\n",
       "        vertical-align: middle;\n",
       "    }\n",
       "\n",
       "    .dataframe tbody tr th {\n",
       "        vertical-align: top;\n",
       "    }\n",
       "\n",
       "    .dataframe thead th {\n",
       "        text-align: right;\n",
       "    }\n",
       "</style>\n",
       "<table border=\"1\" class=\"dataframe\">\n",
       "  <thead>\n",
       "    <tr style=\"text-align: right;\">\n",
       "      <th></th>\n",
       "      <th>business_id</th>\n",
       "      <th>name</th>\n",
       "      <th>address</th>\n",
       "      <th>city</th>\n",
       "      <th>state</th>\n",
       "      <th>postal_code</th>\n",
       "      <th>latitude</th>\n",
       "      <th>longitude</th>\n",
       "      <th>stars</th>\n",
       "      <th>review_count</th>\n",
       "      <th>is_open</th>\n",
       "      <th>attributes</th>\n",
       "      <th>categories</th>\n",
       "      <th>hours</th>\n",
       "    </tr>\n",
       "  </thead>\n",
       "  <tbody>\n",
       "  </tbody>\n",
       "</table>\n",
       "</div>"
      ],
      "text/plain": [
       "Empty DataFrame\n",
       "Columns: [business_id, name, address, city, state, postal_code, latitude, longitude, stars, review_count, is_open, attributes, categories, hours]\n",
       "Index: []"
      ]
     },
     "execution_count": 37,
     "metadata": {},
     "output_type": "execute_result"
    }
   ],
   "source": [
    "yelp_business_df1 = yelp_business_df.loc[yelp_business_df[\"name\"] == \"new_yelp_df['restaurant_name']\"]\n",
    "yelp_business_df1.head()"
   ]
  },
  {
   "cell_type": "markdown",
   "metadata": {},
   "source": [
    "# Create database connection"
   ]
  },
  {
   "cell_type": "code",
   "execution_count": 63,
   "metadata": {},
   "outputs": [],
   "source": [
    "# Making a Connection with MongoClient\n",
    "myclient = pymongo.MongoClient(\"mongodb://localhost:27017/\")\n",
    "# database\n",
    "mydb = myclient[\"NJ_Restaurants\"]"
   ]
  },
  {
   "cell_type": "code",
   "execution_count": 64,
   "metadata": {},
   "outputs": [
    {
     "name": "stdout",
     "output_type": "stream",
     "text": [
      "['ClassDB', 'Fruits_db', 'NJ_Restaurants', 'admin', 'config', 'craigslist_db', 'local', 'mars_db', 'store_inventory', 'team_db']\n"
     ]
    }
   ],
   "source": [
    "# Check if Database Exists\n",
    "print(myclient.list_database_names())"
   ]
  },
  {
   "cell_type": "markdown",
   "metadata": {},
   "source": [
    "# Creating a Collection"
   ]
  },
  {
   "cell_type": "code",
   "execution_count": 65,
   "metadata": {},
   "outputs": [],
   "source": [
    "mycol = mydb[\"Restaurants\"]"
   ]
  },
  {
   "cell_type": "code",
   "execution_count": 66,
   "metadata": {},
   "outputs": [
    {
     "name": "stdout",
     "output_type": "stream",
     "text": [
      "['Restaurants']\n"
     ]
    }
   ],
   "source": [
    "# Check if Collection Exists\n",
    "print(mydb.list_collection_names())"
   ]
  },
  {
   "cell_type": "markdown",
   "metadata": {},
   "source": [
    "# Load DataFrames into database"
   ]
  },
  {
   "cell_type": "code",
   "execution_count": 67,
   "metadata": {},
   "outputs": [
    {
     "data": {
      "text/plain": [
       "<pymongo.results.InsertManyResult at 0x2170bcad808>"
      ]
     },
     "execution_count": 67,
     "metadata": {},
     "output_type": "execute_result"
    }
   ],
   "source": [
    "# Load csv dataset\n",
    "data = pd.read_csv('../Resources/yelp_data.csv')\n",
    "data.reset_index(inplace=True)\n",
    "data_dict = data.to_dict(\"records\")\n",
    "\n",
    "# Insert collection\n",
    "mycol.insert_many(data_dict)"
   ]
  },
  {
   "cell_type": "code",
   "execution_count": null,
   "metadata": {},
   "outputs": [],
   "source": []
  },
  {
   "cell_type": "code",
   "execution_count": null,
   "metadata": {},
   "outputs": [],
   "source": []
  },
  {
   "cell_type": "code",
   "execution_count": null,
   "metadata": {},
   "outputs": [],
   "source": []
  }
 ],
 "metadata": {
  "kernelspec": {
   "display_name": "Python 3",
   "language": "python",
   "name": "python3"
  },
  "language_info": {
   "codemirror_mode": {
    "name": "ipython",
    "version": 3
   },
   "file_extension": ".py",
   "mimetype": "text/x-python",
   "name": "python",
   "nbconvert_exporter": "python",
   "pygments_lexer": "ipython3",
   "version": "3.6.10"
  }
 },
 "nbformat": 4,
 "nbformat_minor": 4
}
